{
 "cells": [
  {
   "cell_type": "markdown",
   "id": "9d1d79ff",
   "metadata": {},
   "source": [
    "# Analítica de Datos en las Organizaciones\n",
    "\n",
    "# Asesor: José Gabriel Rodríguez Rivas\n",
    "\n",
    "# Alumno: Carlos Fernando Pinal Félix\n",
    "\n",
    "## Práctica de análisis descriptivos de los datos"
   ]
  },
  {
   "cell_type": "markdown",
   "id": "cf90ae0f",
   "metadata": {},
   "source": [
    "## Parte 1: Análisis de los datos\n",
    "\n",
    "El objetivo de la primera parte de esta práctica de laboratorio es utilizar métodos de pandas para importar un conjunto de datos y generar las estadísticas descriptivas siguientes:\n",
    "\n",
    "    tamaño de la muestra\n",
    "    media\n",
    "    mediana\n",
    "    Desviación estándar\n",
    "    mínima, máxima y rango de valores\n",
    "\n",
    "### Paso 1: Configure el entorno e importe los datos.\n",
    "\n",
    "Primero, importará los módulos y configurará el entorno para mostrar la salida de matplotlib en la página de la computadora portátil. Usará pandas para importar los datos de un archivo csv a un marco de datos. Trabajará con un archivo que contiene ejemplos de control de calidad para cajas de 20 oz de un producto alimenticio. Los datos se utilizan para verificar la precisión de las máquinas que cargan las cajas.\n",
    "\n",
    "a) Importe los módulos y configure el entorno.\n"
   ]
  },
  {
   "cell_type": "code",
   "execution_count": 1,
   "id": "fa419272",
   "metadata": {},
   "outputs": [],
   "source": [
    "# Code cell 1\n",
    "# Import the modules: pandas and matplotlib\n",
    "\n",
    "import pandas as pd\n",
    "import matplotlib.pyplot as plt\n",
    "\n",
    "%matplotlib inline"
   ]
  },
  {
   "cell_type": "markdown",
   "id": "71f0e19b",
   "metadata": {},
   "source": [
    "b) Importe los datos del archivo ./Data/rpi_describe.csv mediante el método de pandas read_csv. Utilice “datos” como nombre del marco de datos."
   ]
  },
  {
   "cell_type": "code",
   "execution_count": 2,
   "id": "addb817f",
   "metadata": {},
   "outputs": [],
   "source": [
    "# Code cell 2\n",
    "# import the csv into the dataframe\n",
    "data= pd.read_csv(\"./Data/rpi_describe.csv\")"
   ]
  },
  {
   "cell_type": "markdown",
   "id": "1183b32d",
   "metadata": {},
   "source": [
    "c) Verifique que el archivo se haya importado correctamente mediante el uso de los métodos de pandas head y tail para el marco de datos."
   ]
  },
  {
   "cell_type": "code",
   "execution_count": 3,
   "id": "eb07e49a",
   "metadata": {},
   "outputs": [
    {
     "data": {
      "text/html": [
       "<div>\n",
       "<style scoped>\n",
       "    .dataframe tbody tr th:only-of-type {\n",
       "        vertical-align: middle;\n",
       "    }\n",
       "\n",
       "    .dataframe tbody tr th {\n",
       "        vertical-align: top;\n",
       "    }\n",
       "\n",
       "    .dataframe thead th {\n",
       "        text-align: right;\n",
       "    }\n",
       "</style>\n",
       "<table border=\"1\" class=\"dataframe\">\n",
       "  <thead>\n",
       "    <tr style=\"text-align: right;\">\n",
       "      <th></th>\n",
       "      <th>weight</th>\n",
       "    </tr>\n",
       "  </thead>\n",
       "  <tbody>\n",
       "    <tr>\n",
       "      <th>0</th>\n",
       "      <td>20.440</td>\n",
       "    </tr>\n",
       "    <tr>\n",
       "      <th>1</th>\n",
       "      <td>20.244</td>\n",
       "    </tr>\n",
       "    <tr>\n",
       "      <th>2</th>\n",
       "      <td>20.549</td>\n",
       "    </tr>\n",
       "    <tr>\n",
       "      <th>3</th>\n",
       "      <td>20.755</td>\n",
       "    </tr>\n",
       "    <tr>\n",
       "      <th>4</th>\n",
       "      <td>20.740</td>\n",
       "    </tr>\n",
       "  </tbody>\n",
       "</table>\n",
       "</div>"
      ],
      "text/plain": [
       "   weight\n",
       "0  20.440\n",
       "1  20.244\n",
       "2  20.549\n",
       "3  20.755\n",
       "4  20.740"
      ]
     },
     "execution_count": 3,
     "metadata": {},
     "output_type": "execute_result"
    }
   ],
   "source": [
    "# Code cell 3\n",
    "# view the contents of the first five rows in the dataframe\n",
    "data.head()"
   ]
  },
  {
   "cell_type": "code",
   "execution_count": 4,
   "id": "e7d5a05f",
   "metadata": {},
   "outputs": [
    {
     "data": {
      "text/html": [
       "<div>\n",
       "<style scoped>\n",
       "    .dataframe tbody tr th:only-of-type {\n",
       "        vertical-align: middle;\n",
       "    }\n",
       "\n",
       "    .dataframe tbody tr th {\n",
       "        vertical-align: top;\n",
       "    }\n",
       "\n",
       "    .dataframe thead th {\n",
       "        text-align: right;\n",
       "    }\n",
       "</style>\n",
       "<table border=\"1\" class=\"dataframe\">\n",
       "  <thead>\n",
       "    <tr style=\"text-align: right;\">\n",
       "      <th></th>\n",
       "      <th>weight</th>\n",
       "    </tr>\n",
       "  </thead>\n",
       "  <tbody>\n",
       "    <tr>\n",
       "      <th>9995</th>\n",
       "      <td>20.419</td>\n",
       "    </tr>\n",
       "    <tr>\n",
       "      <th>9996</th>\n",
       "      <td>20.554</td>\n",
       "    </tr>\n",
       "    <tr>\n",
       "      <th>9997</th>\n",
       "      <td>20.768</td>\n",
       "    </tr>\n",
       "    <tr>\n",
       "      <th>9998</th>\n",
       "      <td>20.829</td>\n",
       "    </tr>\n",
       "    <tr>\n",
       "      <th>9999</th>\n",
       "      <td>20.667</td>\n",
       "    </tr>\n",
       "  </tbody>\n",
       "</table>\n",
       "</div>"
      ],
      "text/plain": [
       "      weight\n",
       "9995  20.419\n",
       "9996  20.554\n",
       "9997  20.768\n",
       "9998  20.829\n",
       "9999  20.667"
      ]
     },
     "execution_count": 4,
     "metadata": {},
     "output_type": "execute_result"
    }
   ],
   "source": [
    "# Code cell 4\n",
    "# view the contents of the last five rows in the dataframe\n",
    "data.tail()"
   ]
  },
  {
   "cell_type": "markdown",
   "id": "3dcea140",
   "metadata": {},
   "source": [
    "A partir de la salida del método de cola, observará que hay 10 000 filas de datos en el archivo. Si bien se trata sólo de una columna, los pandas administran este archivo de manera muy eficaz.\n",
    "### Paso 2: Utilice los pandas para visualizar la tabla de estadísticas descriptivas para el archivo.\n",
    "\n",
    "Los pandas incluyen varios métodos eficaces para mostrar las estadísticas básicas en un conjunto de datos.\n",
    "\n",
    "a) El método dataframe.describe() muestra estadísticas del marco de datos"
   ]
  },
  {
   "cell_type": "code",
   "execution_count": 5,
   "id": "0dce3695",
   "metadata": {},
   "outputs": [
    {
     "data": {
      "text/html": [
       "<div>\n",
       "<style scoped>\n",
       "    .dataframe tbody tr th:only-of-type {\n",
       "        vertical-align: middle;\n",
       "    }\n",
       "\n",
       "    .dataframe tbody tr th {\n",
       "        vertical-align: top;\n",
       "    }\n",
       "\n",
       "    .dataframe thead th {\n",
       "        text-align: right;\n",
       "    }\n",
       "</style>\n",
       "<table border=\"1\" class=\"dataframe\">\n",
       "  <thead>\n",
       "    <tr style=\"text-align: right;\">\n",
       "      <th></th>\n",
       "      <th>weight</th>\n",
       "    </tr>\n",
       "  </thead>\n",
       "  <tbody>\n",
       "    <tr>\n",
       "      <th>count</th>\n",
       "      <td>10000.000000</td>\n",
       "    </tr>\n",
       "    <tr>\n",
       "      <th>mean</th>\n",
       "      <td>20.499212</td>\n",
       "    </tr>\n",
       "    <tr>\n",
       "      <th>std</th>\n",
       "      <td>0.199874</td>\n",
       "    </tr>\n",
       "    <tr>\n",
       "      <th>min</th>\n",
       "      <td>19.752000</td>\n",
       "    </tr>\n",
       "    <tr>\n",
       "      <th>25%</th>\n",
       "      <td>20.365000</td>\n",
       "    </tr>\n",
       "    <tr>\n",
       "      <th>50%</th>\n",
       "      <td>20.500000</td>\n",
       "    </tr>\n",
       "    <tr>\n",
       "      <th>75%</th>\n",
       "      <td>20.635000</td>\n",
       "    </tr>\n",
       "    <tr>\n",
       "      <th>max</th>\n",
       "      <td>21.171000</td>\n",
       "    </tr>\n",
       "  </tbody>\n",
       "</table>\n",
       "</div>"
      ],
      "text/plain": [
       "             weight\n",
       "count  10000.000000\n",
       "mean      20.499212\n",
       "std        0.199874\n",
       "min       19.752000\n",
       "25%       20.365000\n",
       "50%       20.500000\n",
       "75%       20.635000\n",
       "max       21.171000"
      ]
     },
     "execution_count": 5,
     "metadata": {},
     "output_type": "execute_result"
    }
   ],
   "source": [
    "# Code cell 5\n",
    "# use the describe method of the new dataframe to view the table of statistics\n",
    "data.describe()"
   ]
  },
  {
   "cell_type": "markdown",
   "id": "3d28159f",
   "metadata": {},
   "source": [
    "b) Para trabajar con los valores redondeados de los pesos en el conjunto de datos, puede agregar una nueva columna a los valores redondeados. En los pandas, se accede a las columnas por sus encabezados. Para crear una nueva columna, se utiliza el nombre de la nueva columna, entre comillas, entre corchetes como índice para el marco de datos. El método round() se utiliza para redondear los valores en la columna peso y completar una nueva columna con los valores redondeados."
   ]
  },
  {
   "cell_type": "code",
   "execution_count": 6,
   "id": "7d6ab74e",
   "metadata": {},
   "outputs": [
    {
     "data": {
      "text/html": [
       "<div>\n",
       "<style scoped>\n",
       "    .dataframe tbody tr th:only-of-type {\n",
       "        vertical-align: middle;\n",
       "    }\n",
       "\n",
       "    .dataframe tbody tr th {\n",
       "        vertical-align: top;\n",
       "    }\n",
       "\n",
       "    .dataframe thead th {\n",
       "        text-align: right;\n",
       "    }\n",
       "</style>\n",
       "<table border=\"1\" class=\"dataframe\">\n",
       "  <thead>\n",
       "    <tr style=\"text-align: right;\">\n",
       "      <th></th>\n",
       "      <th>weight</th>\n",
       "      <th>rounded</th>\n",
       "    </tr>\n",
       "  </thead>\n",
       "  <tbody>\n",
       "    <tr>\n",
       "      <th>0</th>\n",
       "      <td>20.440</td>\n",
       "      <td>20.44</td>\n",
       "    </tr>\n",
       "    <tr>\n",
       "      <th>1</th>\n",
       "      <td>20.244</td>\n",
       "      <td>20.24</td>\n",
       "    </tr>\n",
       "    <tr>\n",
       "      <th>2</th>\n",
       "      <td>20.549</td>\n",
       "      <td>20.55</td>\n",
       "    </tr>\n",
       "    <tr>\n",
       "      <th>3</th>\n",
       "      <td>20.755</td>\n",
       "      <td>20.76</td>\n",
       "    </tr>\n",
       "    <tr>\n",
       "      <th>4</th>\n",
       "      <td>20.740</td>\n",
       "      <td>20.74</td>\n",
       "    </tr>\n",
       "  </tbody>\n",
       "</table>\n",
       "</div>"
      ],
      "text/plain": [
       "   weight  rounded\n",
       "0  20.440    20.44\n",
       "1  20.244    20.24\n",
       "2  20.549    20.55\n",
       "3  20.755    20.76\n",
       "4  20.740    20.74"
      ]
     },
     "execution_count": 6,
     "metadata": {},
     "output_type": "execute_result"
    }
   ],
   "source": [
    "# Code cell 6\n",
    "\n",
    "# Add a new column to the dataframe and populate it with rounded weights.\n",
    "data['rounded'] = data.weight.round(2)\n",
    "\n",
    "# Verify that values were added.\n",
    "data.head()"
   ]
  },
  {
   "cell_type": "markdown",
   "id": "3639f911",
   "metadata": {},
   "source": [
    "c) También es posible completar una columna con valores calculados. Por ejemplo,\n",
    "\n",
    "dataframe['c'] = dataframe['a'] - dataframe['b']\n",
    "\n",
    "creará la columna c en el marco de datos y la completará con la diferencia entre los valores numéricos en la columna a y b.\n",
    "\n",
    "Cree una nueva columna en el marco de datos llamada “diff” y complete esa columna con la cantidad de peso sobre o debajo del valor objetivo de 20 onzas. Utilice el valor redondeado para el cálculo.\n"
   ]
  },
  {
   "cell_type": "code",
   "execution_count": 7,
   "id": "88897855",
   "metadata": {},
   "outputs": [
    {
     "data": {
      "text/html": [
       "<div>\n",
       "<style scoped>\n",
       "    .dataframe tbody tr th:only-of-type {\n",
       "        vertical-align: middle;\n",
       "    }\n",
       "\n",
       "    .dataframe tbody tr th {\n",
       "        vertical-align: top;\n",
       "    }\n",
       "\n",
       "    .dataframe thead th {\n",
       "        text-align: right;\n",
       "    }\n",
       "</style>\n",
       "<table border=\"1\" class=\"dataframe\">\n",
       "  <thead>\n",
       "    <tr style=\"text-align: right;\">\n",
       "      <th></th>\n",
       "      <th>weight</th>\n",
       "      <th>rounded</th>\n",
       "      <th>diff</th>\n",
       "    </tr>\n",
       "  </thead>\n",
       "  <tbody>\n",
       "    <tr>\n",
       "      <th>0</th>\n",
       "      <td>20.440</td>\n",
       "      <td>20.44</td>\n",
       "      <td>0.44</td>\n",
       "    </tr>\n",
       "    <tr>\n",
       "      <th>1</th>\n",
       "      <td>20.244</td>\n",
       "      <td>20.24</td>\n",
       "      <td>0.24</td>\n",
       "    </tr>\n",
       "    <tr>\n",
       "      <th>2</th>\n",
       "      <td>20.549</td>\n",
       "      <td>20.55</td>\n",
       "      <td>0.55</td>\n",
       "    </tr>\n",
       "    <tr>\n",
       "      <th>3</th>\n",
       "      <td>20.755</td>\n",
       "      <td>20.76</td>\n",
       "      <td>0.76</td>\n",
       "    </tr>\n",
       "    <tr>\n",
       "      <th>4</th>\n",
       "      <td>20.740</td>\n",
       "      <td>20.74</td>\n",
       "      <td>0.74</td>\n",
       "    </tr>\n",
       "  </tbody>\n",
       "</table>\n",
       "</div>"
      ],
      "text/plain": [
       "   weight  rounded  diff\n",
       "0  20.440    20.44  0.44\n",
       "1  20.244    20.24  0.24\n",
       "2  20.549    20.55  0.55\n",
       "3  20.755    20.76  0.76\n",
       "4  20.740    20.74  0.74"
      ]
     },
     "execution_count": 7,
     "metadata": {},
     "output_type": "execute_result"
    }
   ],
   "source": [
    "# Code cell 7\n",
    "# Create the new column named \"diff\" and fill it with values.\n",
    "data['diff'] = data['rounded'] - 20\n",
    "\n",
    "# Check the result.\n",
    "data.head()"
   ]
  },
  {
   "cell_type": "markdown",
   "id": "17672ed0",
   "metadata": {},
   "source": [
    "### Paso 3: Visualice las estadísticas descriptivas en texto\n",
    "\n",
    "En este paso, creará variables para alojar una serie de estadísticas descriptivas y luego desarrollará cadenas para mostrar los valores. Utilizará lo siguiente:\n",
    "\n",
    "    count()\n",
    "    mean()\n",
    "    median()\n",
    "    std()\n",
    "    min()\n",
    "    max()\n",
    "\n",
    "a) Utilice los valores en la columna redondeada del marco de datos. Cree una variable para cada estadística y calcule el rango de valores mediante min() y max() para calcular el rango de valores."
   ]
  },
  {
   "cell_type": "code",
   "execution_count": 8,
   "id": "0ae3809e",
   "metadata": {},
   "outputs": [],
   "source": [
    "# Code cell 8\n",
    "# Create a variables to hold values for the dataset rounded column \n",
    "count = data['rounded'].count() \n",
    "mean = data['rounded'].mean() \n",
    "median = data['rounded'].median() \n",
    "std = data['rounded'].std() \n",
    "rng = data['rounded'].max()  - data['rounded'].min() "
   ]
  },
  {
   "cell_type": "markdown",
   "id": "be20e64f",
   "metadata": {},
   "source": [
    "b) Para desarrollar cadenas que utilicen texto y variables para informar sobre las estadísticas del conjunto de datos, utilice el método de cadena format() para facilitar la inserción de los valores de las variables en las cadenas. El formateo utiliza marcadores {} para indicar dónde deben insertarse los valores de las variables.\n",
    "\n",
    "Desarrolle oraciones como “La media de la distribución es…” para cada variable creada. En la última oración, incluya min(), max() y los valores de rango en las mismas oraciones para practicar el uso de varios marcadores. Puede combinar otras variables en la misma oración, asimismo."
   ]
  },
  {
   "cell_type": "code",
   "execution_count": 9,
   "id": "be7c8f5d",
   "metadata": {},
   "outputs": [],
   "source": [
    "# Code cell 9\n",
    "# Create variables to hold your statements.\n",
    "countstring = \"There are {} records in the dataframe\".format(count)\n",
    "meanstring = \"The mean is {}\".format(mean)\n",
    "stdstring = \"The stabdard deviation is {}\".format(std)\n",
    "rangestring = \"The range between the max {} and min {} is {}\".format(data['rounded'].max(),data['rounded'].min(), rng)"
   ]
  },
  {
   "cell_type": "markdown",
   "id": "e5cf829c",
   "metadata": {},
   "source": [
    "c) Utilice la función print para ver la salida de todas las oraciones."
   ]
  },
  {
   "cell_type": "code",
   "execution_count": 10,
   "id": "74d61aa2",
   "metadata": {},
   "outputs": [
    {
     "name": "stdout",
     "output_type": "stream",
     "text": [
      "There are 10000 records in the dataframe\n",
      "The mean is 20.49915999999995\n",
      "The stabdard deviation is 0.19990740530822973\n",
      "The range between the max 21.17 and min 19.75 is 1.4200000000000017\n"
     ]
    }
   ],
   "source": [
    "# Code cell 10\n",
    "# Print all of your statements\n",
    "print(countstring)\n",
    "print(meanstring)\n",
    "print(stdstring)\n",
    "print(rangestring)"
   ]
  },
  {
   "cell_type": "markdown",
   "id": "8591f6f5",
   "metadata": {},
   "source": [
    "Observe la salida para la desviación estándar. Puede formatear el número, de modo que sea más fácil comprender los resultados. Por ejemplo, puede cambiar la salida de la desviación estándar para mostrar sólo los primeros 2 dígitos después del punto decimal.\n",
    "\n",
    "Documento de Python para formatear las cadenas:\n",
    "\n",
    "https://docs.python.org/2/library/string.html\n",
    "\n",
    "Este enlace proporciona algunos ejemplos de formateo:\n",
    "\n",
    "https://mkaz.tech/code/python-string-format.html\n"
   ]
  },
  {
   "cell_type": "code",
   "execution_count": 11,
   "id": "3cf0ff26",
   "metadata": {},
   "outputs": [
    {
     "name": "stdout",
     "output_type": "stream",
     "text": [
      "The standard deviation of the distribution is 0.20.\n"
     ]
    }
   ],
   "source": [
    "# Code cell 11\n",
    "\n",
    "# Format the standard deviation result to 2 decimal points\n",
    "count = data.rounded.count()\n",
    "stdstring = 'The standard deviation of the distribution is {:.2f}.'.format(std)\n",
    "print(stdstring)"
   ]
  },
  {
   "cell_type": "markdown",
   "id": "dd9a5526",
   "metadata": {},
   "source": [
    "## Parte 2: Visualización de los datos\n",
    "\n",
    "En esta parte de la práctica de laboratorio, creará una distribución de frecuencia por cada valor único en el conjunto de datos.\n",
    "### Paso 1: Cree un marco de datos que contenga los conteos de frecuencia para el conjunto de datos.\n",
    "\n",
    "a) Cree un nuevo marco de datos que contenga los conteos de frecuencia mediante el método value_counts(). Este método crea un objeto de serie, no un marco de datos. Utilizará to_frame() con los métodos reset_index() para crear un marco de datos de pandas a partir del objeto de serie.\n",
    "\n",
    "Utilizará la columna redondeada del marco de datos de los datos con el método value_counts(). Por ejemplo:\n",
    "\n",
    "variable = dataframe['columnName'].value_counts()\n",
    "\n"
   ]
  },
  {
   "cell_type": "code",
   "execution_count": 12,
   "id": "4a210924",
   "metadata": {},
   "outputs": [
    {
     "data": {
      "text/html": [
       "<div>\n",
       "<style scoped>\n",
       "    .dataframe tbody tr th:only-of-type {\n",
       "        vertical-align: middle;\n",
       "    }\n",
       "\n",
       "    .dataframe tbody tr th {\n",
       "        vertical-align: top;\n",
       "    }\n",
       "\n",
       "    .dataframe thead th {\n",
       "        text-align: right;\n",
       "    }\n",
       "</style>\n",
       "<table border=\"1\" class=\"dataframe\">\n",
       "  <thead>\n",
       "    <tr style=\"text-align: right;\">\n",
       "      <th></th>\n",
       "      <th>index</th>\n",
       "      <th>rounded</th>\n",
       "    </tr>\n",
       "  </thead>\n",
       "  <tbody>\n",
       "    <tr>\n",
       "      <th>0</th>\n",
       "      <td>20.48</td>\n",
       "      <td>228</td>\n",
       "    </tr>\n",
       "    <tr>\n",
       "      <th>1</th>\n",
       "      <td>20.50</td>\n",
       "      <td>226</td>\n",
       "    </tr>\n",
       "    <tr>\n",
       "      <th>2</th>\n",
       "      <td>20.43</td>\n",
       "      <td>218</td>\n",
       "    </tr>\n",
       "    <tr>\n",
       "      <th>3</th>\n",
       "      <td>20.46</td>\n",
       "      <td>213</td>\n",
       "    </tr>\n",
       "    <tr>\n",
       "      <th>4</th>\n",
       "      <td>20.45</td>\n",
       "      <td>210</td>\n",
       "    </tr>\n",
       "  </tbody>\n",
       "</table>\n",
       "</div>"
      ],
      "text/plain": [
       "   index  rounded\n",
       "0  20.48      228\n",
       "1  20.50      226\n",
       "2  20.43      218\n",
       "3  20.46      213\n",
       "4  20.45      210"
      ]
     },
     "execution_count": 12,
     "metadata": {},
     "output_type": "execute_result"
    }
   ],
   "source": [
    "# Code cell 12\n",
    "\n",
    "# Create a variable called 'freq' to hold the weight values and their frequencies\n",
    "freq = data['rounded'].value_counts()\n",
    "\n",
    "# Convert the freq object to a data frame. Use to_frame().\n",
    "freq = freq.to_frame().reset_index()\n",
    "type(freq)\n",
    "freq.head()"
   ]
  },
  {
   "cell_type": "markdown",
   "id": "8534647a",
   "metadata": {},
   "source": [
    "b) Utilice la función type() con el nombre de la variable como un argumento para verificar que freq no sea un objeto del marco de datos."
   ]
  },
  {
   "cell_type": "code",
   "execution_count": 13,
   "id": "14edfa30",
   "metadata": {},
   "outputs": [
    {
     "data": {
      "text/plain": [
       "pandas.core.frame.DataFrame"
      ]
     },
     "execution_count": 13,
     "metadata": {},
     "output_type": "execute_result"
    }
   ],
   "source": [
    "# Code cell 13\n",
    "\n",
    "# Verify the type of the freq object.\n",
    "type(freq)"
   ]
  },
  {
   "cell_type": "markdown",
   "id": "27ca9899",
   "metadata": {},
   "source": [
    "c) Utilice head para ver el nuevo marco de datos. Las columnas del marco de datos no tienen un nombre claro. Cámbieles el nombre a \"value\" y \"freq\" mediante el atributo de las columnas del marco de datos. Por ejemplo:\n",
    "\n",
    "dataframe.columns = ['column1','column2']"
   ]
  },
  {
   "cell_type": "code",
   "execution_count": 14,
   "id": "5ec70387",
   "metadata": {},
   "outputs": [
    {
     "data": {
      "text/html": [
       "<div>\n",
       "<style scoped>\n",
       "    .dataframe tbody tr th:only-of-type {\n",
       "        vertical-align: middle;\n",
       "    }\n",
       "\n",
       "    .dataframe tbody tr th {\n",
       "        vertical-align: top;\n",
       "    }\n",
       "\n",
       "    .dataframe thead th {\n",
       "        text-align: right;\n",
       "    }\n",
       "</style>\n",
       "<table border=\"1\" class=\"dataframe\">\n",
       "  <thead>\n",
       "    <tr style=\"text-align: right;\">\n",
       "      <th></th>\n",
       "      <th>value</th>\n",
       "      <th>freq</th>\n",
       "    </tr>\n",
       "  </thead>\n",
       "  <tbody>\n",
       "    <tr>\n",
       "      <th>0</th>\n",
       "      <td>20.48</td>\n",
       "      <td>228</td>\n",
       "    </tr>\n",
       "    <tr>\n",
       "      <th>1</th>\n",
       "      <td>20.50</td>\n",
       "      <td>226</td>\n",
       "    </tr>\n",
       "    <tr>\n",
       "      <th>2</th>\n",
       "      <td>20.43</td>\n",
       "      <td>218</td>\n",
       "    </tr>\n",
       "    <tr>\n",
       "      <th>3</th>\n",
       "      <td>20.46</td>\n",
       "      <td>213</td>\n",
       "    </tr>\n",
       "    <tr>\n",
       "      <th>4</th>\n",
       "      <td>20.45</td>\n",
       "      <td>210</td>\n",
       "    </tr>\n",
       "  </tbody>\n",
       "</table>\n",
       "</div>"
      ],
      "text/plain": [
       "   value  freq\n",
       "0  20.48   228\n",
       "1  20.50   226\n",
       "2  20.43   218\n",
       "3  20.46   213\n",
       "4  20.45   210"
      ]
     },
     "execution_count": 14,
     "metadata": {},
     "output_type": "execute_result"
    }
   ],
   "source": [
    "# Code cell 14\n",
    "\n",
    "# Rename the columns in the dataframe.\n",
    "freq.columns = ['value','freq']\n",
    "\n",
    "# Verify the result.\n",
    "freq.head()"
   ]
  },
  {
   "cell_type": "markdown",
   "id": "9024e052",
   "metadata": {},
   "source": [
    "### Paso 2: Trace un gráfico de la distribución de frecuencia.\n",
    "\n",
    "a) El módulo matplotlib.pyplot se importó como plt anteriormente en la práctica de laboratorio. Los métodos del módulo se utilizan para formatear y mostrar un diagrama de dispersión de los datos de frecuencia para un conjunto de datos."
   ]
  },
  {
   "cell_type": "code",
   "execution_count": 15,
   "id": "c611da92",
   "metadata": {},
   "outputs": [
    {
     "data": {
      "text/plain": [
       "[<matplotlib.lines.Line2D at 0x20652187e50>]"
      ]
     },
     "execution_count": 15,
     "metadata": {},
     "output_type": "execute_result"
    },
    {
     "data": {
      "image/png": "[encoded data removed]",
      "text/plain": [
       "<Figure size 1440x720 with 1 Axes>"
      ]
     },
     "metadata": {
      "needs_background": "light"
     },
     "output_type": "display_data"
    }
   ],
   "source": [
    "# Code cell 15\n",
    "\n",
    "# Set a size for the graph\n",
    "plt.figure(figsize=(20,10))\n",
    "\n",
    "# Add axis labels\n",
    "plt.ylabel('Frequency')\n",
    "plt.xlabel('Weight')\n",
    "\n",
    "# Plot the graph using a round symbol \"o\" of size 10\n",
    "plt.plot(freq.value,freq.freq, \"o\", markersize = 10, color = 'g')\n"
   ]
  },
  {
   "cell_type": "markdown",
   "id": "f6bdac4b",
   "metadata": {},
   "source": [
    "b) Experimente lo siguiente: diagrame los datos con dimensiones, marcadores, tamaños de marcadores y colores diferentes. Use los enlaces a continuación para los valores. También puede utilizar el ejemplo anterior para intentar diferentes dimensiones de figuras.\n",
    "\n",
    "marcadores http://matplotlib.org/api/markers_api.html\n",
    "\n",
    "colores http://matplotlib.org/api/colors_api.html"
   ]
  },
  {
   "cell_type": "code",
   "execution_count": 17,
   "id": "305893f6",
   "metadata": {},
   "outputs": [
    {
     "data": {
      "text/plain": [
       "[<matplotlib.lines.Line2D at 0x20652c952b0>]"
      ]
     },
     "execution_count": 17,
     "metadata": {},
     "output_type": "execute_result"
    },
    {
     "data": {
      "image/png": "[encoded data removed]",
      "text/plain": [
       "<Figure size 1440x720 with 1 Axes>"
      ]
     },
     "metadata": {
      "needs_background": "light"
     },
     "output_type": "display_data"
    }
   ],
   "source": [
    "plt.figure(figsize=(20,10))\n",
    "\n",
    "plt.ylabel('Frequency')\n",
    "plt.xlabel('Weight')\n",
    "\n",
    "plt.plot(freq.value,freq.freq, \"v\", markersize = 10, color = 'b')"
   ]
  },
  {
   "cell_type": "code",
   "execution_count": null,
   "id": "97582d79",
   "metadata": {},
   "outputs": [],
   "source": []
  }
 ],
 "metadata": {
  "kernelspec": {
   "display_name": "Python 3 (ipykernel)",
   "language": "python",
   "name": "python3"
  },
  "language_info": {
   "codemirror_mode": {
    "name": "ipython",
    "version": 3
   },
   "file_extension": ".py",
   "mimetype": "text/x-python",
   "name": "python",
   "nbconvert_exporter": "python",
   "pygments_lexer": "ipython3",
   "version": "3.9.12"
  }
 },
 "nbformat": 4,
 "nbformat_minor": 5
}
